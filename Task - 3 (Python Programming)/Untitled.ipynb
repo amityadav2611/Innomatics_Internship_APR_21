{
 "cells": [
  {
   "cell_type": "code",
   "execution_count": null,
   "id": "804fd959",
   "metadata": {},
   "outputs": [],
   "source": [
    "#Question-1  (Polar Coordinates)\n",
    "\n",
    "import cmath\n",
    "c=complex(input().strip())\n",
    "res=cmath.polar(c)\n",
    "print(res[0])\n",
    "print(res[1])"
   ]
  },
  {
   "cell_type": "code",
   "execution_count": null,
   "id": "327b2e06",
   "metadata": {},
   "outputs": [],
   "source": [
    "#Question-2 (Find Angle MBC)\n",
    "\n",
    "import math\n",
    "AB=int(input())\n",
    "BC=int(input())\n",
    "print(round(math.degrees(math.atan(AB/BC))),chr(176),sep='')"
   ]
  },
  {
   "cell_type": "code",
   "execution_count": null,
   "id": "c049f133",
   "metadata": {},
   "outputs": [],
   "source": [
    "#Question-3 (Triangle Quest 2)\n",
    "\n",
    "print((pow(10,i)//9)**2)"
   ]
  },
  {
   "cell_type": "code",
   "execution_count": null,
   "id": "0a0bd2f6",
   "metadata": {},
   "outputs": [],
   "source": [
    "#Question-4 (Mod Divmod)\n",
    "\n",
    "a=int(input())\n",
    "b=int(input())\n",
    "x=divmod(a,b)\n",
    "print(x[0],x[1],x,sep='\\n')"
   ]
  },
  {
   "cell_type": "code",
   "execution_count": null,
   "id": "542d46c9",
   "metadata": {},
   "outputs": [],
   "source": [
    "#Question-5 (Power - Mod Power)\n",
    "\n",
    "a=int(input())\n",
    "b=int(input())\n",
    "m=int(input())\n",
    "print(pow(a,b))\n",
    "print(pow(a,b,m))"
   ]
  },
  {
   "cell_type": "code",
   "execution_count": null,
   "id": "721880da",
   "metadata": {},
   "outputs": [],
   "source": [
    "##Question-6 (Integers Come In All Sizes)\n",
    "\n",
    "a=int(input())\n",
    "b=int(input())\n",
    "c=int(input())\n",
    "d=int(input())\n",
    "q=pow(a,b)\n",
    "w=pow(c,d)\n",
    "print(q+w)"
   ]
  },
  {
   "cell_type": "code",
   "execution_count": null,
   "id": "b0d7c3a2",
   "metadata": {},
   "outputs": [],
   "source": [
    "#Question-7 (Triangle Quest)\n",
    "\n",
    " print((pow(10,i)//9)*i)"
   ]
  }
 ],
 "metadata": {
  "kernelspec": {
   "display_name": "Python 3",
   "language": "python",
   "name": "python3"
  },
  "language_info": {
   "codemirror_mode": {
    "name": "ipython",
    "version": 3
   },
   "file_extension": ".py",
   "mimetype": "text/x-python",
   "name": "python",
   "nbconvert_exporter": "python",
   "pygments_lexer": "ipython3",
   "version": "3.9.4"
  }
 },
 "nbformat": 4,
 "nbformat_minor": 5
}
