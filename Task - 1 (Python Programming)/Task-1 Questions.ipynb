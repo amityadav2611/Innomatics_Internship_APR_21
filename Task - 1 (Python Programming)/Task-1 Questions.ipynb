{
 "cells": [
  {
   "cell_type": "code",
   "execution_count": 2,
   "id": "5e623ad3",
   "metadata": {},
   "outputs": [
    {
     "name": "stdout",
     "output_type": "stream",
     "text": [
      "Hello, World!\n"
     ]
    }
   ],
   "source": [
    "#Question-1\n",
    "\n",
    "print(\"Hello, World!\")"
   ]
  },
  {
   "cell_type": "code",
   "execution_count": null,
   "id": "eb5fe647",
   "metadata": {},
   "outputs": [],
   "source": [
    "#Question-2\n",
    "\n",
    "if (n%2!=0) or (n>=6 and n<=20):\n",
    "    print(\"Weird\")\n",
    "else:\n",
    "    print(\"Not Weird\")\n"
   ]
  },
  {
   "cell_type": "code",
   "execution_count": null,
   "id": "debd45d0",
   "metadata": {},
   "outputs": [],
   "source": [
    "#Question-3\n",
    "\n",
    "    print(a+b)\n",
    "    print(a-b)\n",
    "    print(a*b)"
   ]
  },
  {
   "cell_type": "code",
   "execution_count": null,
   "id": "912403be",
   "metadata": {},
   "outputs": [],
   "source": [
    "#Question-4\n",
    "\n",
    "print(a//b)\n",
    "print(a/b)"
   ]
  },
  {
   "cell_type": "code",
   "execution_count": null,
   "id": "83723aad",
   "metadata": {},
   "outputs": [],
   "source": [
    "#Question-5\n",
    "\n",
    "for i in range(0,n):\n",
    "        print(i*i)"
   ]
  },
  {
   "cell_type": "code",
   "execution_count": null,
   "id": "6ba601e9",
   "metadata": {},
   "outputs": [],
   "source": [
    "#Question-6\n",
    "\n",
    " if year%400 == 0:\n",
    "        return True\n",
    "    if year%100 == 0:\n",
    "        return False\n",
    "    if year%4 == 0:\n",
    "        return True\n",
    "    return False"
   ]
  },
  {
   "cell_type": "code",
   "execution_count": null,
   "id": "733aad70",
   "metadata": {},
   "outputs": [],
   "source": [
    "#Question-7\n",
    "\n",
    " for i in range(1,n+1):\n",
    "        print(i,end=\"\")"
   ]
  }
 ],
 "metadata": {
  "kernelspec": {
   "display_name": "Python 3",
   "language": "python",
   "name": "python3"
  },
  "language_info": {
   "codemirror_mode": {
    "name": "ipython",
    "version": 3
   },
   "file_extension": ".py",
   "mimetype": "text/x-python",
   "name": "python",
   "nbconvert_exporter": "python",
   "pygments_lexer": "ipython3",
   "version": "3.9.4"
  }
 },
 "nbformat": 4,
 "nbformat_minor": 5
}
