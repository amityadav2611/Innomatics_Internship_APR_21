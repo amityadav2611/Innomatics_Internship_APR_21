{
 "cells": [
  {
   "cell_type": "code",
   "execution_count": null,
   "id": "8f960c24",
   "metadata": {},
   "outputs": [],
   "source": [
    "#Question-1 (sWAP cASE)\n",
    "\n",
    "def change(c):\n",
    "    if str.islower(c):\n",
    "        return str.upper(c)\n",
    "    else:\n",
    "        return str.lower(c)\n",
    "    \n",
    "def swap_case(s):\n",
    "    return ''.join(map(change,s))\n",
    "if __name__ == '__main__':\n",
    "    s = input()\n",
    "    result = swap_case(s)\n",
    "    print(result)"
   ]
  },
  {
   "cell_type": "code",
   "execution_count": null,
   "id": "8d290039",
   "metadata": {},
   "outputs": [],
   "source": [
    "#Question-2 (String Split and Join)\n",
    "\n",
    "# write your code here\n",
    "    return '-'.join(line.split(\" \"))"
   ]
  },
  {
   "cell_type": "code",
   "execution_count": null,
   "id": "d0d8aaee",
   "metadata": {},
   "outputs": [],
   "source": [
    "#Question-3 (What's Your Name?)\n",
    "\n",
    "# Write your code here\n",
    "    print(\"Hello %s %s! You just delved into python.\"% (first,last))"
   ]
  },
  {
   "cell_type": "code",
   "execution_count": null,
   "id": "ad8e2df2",
   "metadata": {},
   "outputs": [],
   "source": [
    "#Question-4 (Mutations)\n",
    "\n",
    "return string[:position]+character+string[position+1:]"
   ]
  },
  {
   "cell_type": "code",
   "execution_count": null,
   "id": "fa5f5f39",
   "metadata": {},
   "outputs": [],
   "source": [
    "#Question-5 (Find a string)\n",
    "\n",
    "def count_substring(string, sub_string):\n",
    "    \n",
    "    ml=len(string)\n",
    "    sl=len(sub_string)\n",
    "    c=0\n",
    "    \n",
    "    for i in range(ml-sl+1):\n",
    "        if(string[i:(i+sl)]==sub_string):\n",
    "            c=c+1\n",
    "    return c\n"
   ]
  },
  {
   "cell_type": "code",
   "execution_count": null,
   "id": "53ea6aab",
   "metadata": {},
   "outputs": [],
   "source": [
    "#Question-6 (String Validators)\n",
    "\n",
    "    s = input()\n",
    "    print(any([i.isalnum() for i in s]))\n",
    "    print(any([i.isalpha() for i in s]))\n",
    "    print(any([i.isdigit() for i in s]))\n",
    "    print(any([i.islower() for i in s]))\n",
    "    print(any([i.isupper() for i in s]))"
   ]
  },
  {
   "cell_type": "code",
   "execution_count": null,
   "id": "d244a4ad",
   "metadata": {},
   "outputs": [],
   "source": [
    "#Question-7 (Text Alignment)\n",
    "\n",
    "#Top Cone\n",
    "for i in range(thickness):\n",
    "    print((c*i).rjust(thickness-1)+c+(c*i).ljust(thickness-1))\n",
    "\n",
    "#Top Pillars\n",
    "for i in range(thickness+1):\n",
    "    print((c*thickness).center(thickness*2)+(c*thickness).center(thickness*6))\n",
    "\n",
    "#Middle Belt\n",
    "for i in range((thickness+1)//2):\n",
    "    print((c*thickness*5).center(thickness*6))    \n",
    "\n",
    "#Bottom Pillars\n",
    "for i in range(thickness+1):\n",
    "    print((c*thickness).center(thickness*2)+(c*thickness).center(thickness*6))    \n",
    "\n",
    "#Bottom Cone\n",
    "for i in range(thickness):\n",
    "    print(((c*(thickness-i-1)).rjust(thickness)+c+(c*(thickness-i-1)).ljust(thickness)).rjust(thickness*6))"
   ]
  },
  {
   "cell_type": "code",
   "execution_count": null,
   "id": "cccad293",
   "metadata": {},
   "outputs": [],
   "source": [
    "#Question-8 (Text Wrap)\n",
    "\n",
    " return textwrap.fill(string,max_width)\n"
   ]
  },
  {
   "cell_type": "code",
   "execution_count": null,
   "id": "3e7fc195",
   "metadata": {},
   "outputs": [],
   "source": [
    "#Question-9  (Designer Door Mat)\n",
    "\n",
    "R,C = map(int,input().split(' '))\n",
    "\n",
    "for i in range (1,R,2):\n",
    "    print((\".|.\"*i).center(C,'-'))\n",
    "    \n",
    "print(\"WELCOME\".center(C,'-'))\n",
    "\n",
    "for i in range(R-2,-1,-2):\n",
    "    print((\".|.\"*i).center(C,'-'))"
   ]
  },
  {
   "cell_type": "code",
   "execution_count": null,
   "id": "32f8bf89",
   "metadata": {},
   "outputs": [],
   "source": [
    "#Question-10 (String Formatting)\n",
    "\n",
    "def print_formatted(number):\n",
    "    # your code goes here\n",
    "    w=len(str(bin(number))[2:])\n",
    "    \n",
    "    for i in range(1,number+1):\n",
    "        print(str(i).rjust(w,' '),oct(i)[2:].rjust(w,' '),hex(i)[2:].upper().rjust(w,' '),bin(i)[2:].rjust(w,' '))"
   ]
  },
  {
   "cell_type": "code",
   "execution_count": 1,
   "id": "13e8118c",
   "metadata": {},
   "outputs": [],
   "source": [
    "#Question-11 (Alphabet Rangoli)\n",
    "\n",
    "# your code goes here\n",
    "    for i in range(n):\n",
    "        s=\"-\".join(chr(ord('a')+n-j-1) for j in range(i+1))\n",
    "        print((s+s[::-1][1:]).center(n*4-3,'-'))\n",
    "        \n",
    "    for i in range(n-1):\n",
    "        s=\"-\".join(chr(ord('a')+n-j-1) for j in range(n-i-1))\n",
    "        print((s+s[::-1][1:]).center(n*4-3,'-'))"
   ]
  },
  {
   "cell_type": "code",
   "execution_count": null,
   "id": "22416eb6",
   "metadata": {},
   "outputs": [],
   "source": [
    "#Question-12 (Capitalize!)\n",
    "\n",
    "# Complete the solve function below.\n",
    "def solve(s):\n",
    "    l=s.split(\" \")\n",
    "    s=''\n",
    "    for i in l:\n",
    "        s=s+i.capitalize()+' '\n",
    "    return s"
   ]
  },
  {
   "cell_type": "code",
   "execution_count": null,
   "id": "f34ef299",
   "metadata": {},
   "outputs": [],
   "source": [
    "#Question-13 (The Minion Game)\n",
    "\n",
    "# your code goes here\n",
    "    s=len(string)\n",
    "    con,vow=0,0\n",
    "    \n",
    "    for i in range(s):\n",
    "        if string[i] in 'AIEOU':\n",
    "            vow=vow+(s-i)\n",
    "        else:\n",
    "            con=con+(s-i)\n",
    "    if con>vow:\n",
    "        print('Stuart {}'.format(con))\n",
    "    elif con==vow:\n",
    "        print('Draw')\n",
    "    else:\n",
    "        print('Kevin {}'.format(vow))\n"
   ]
  },
  {
   "cell_type": "code",
   "execution_count": null,
   "id": "e43f8595",
   "metadata": {},
   "outputs": [],
   "source": [
    "#Question-14 (Merge the Tools!)\n",
    "\n",
    "# your code goes here\n",
    "    c=0\n",
    "    s=''\n",
    "    for i in string:\n",
    "        if i not in s:\n",
    "            s=s+i\n",
    "        c+=1\n",
    "        if(c==k):\n",
    "            print(s)\n",
    "            c=0\n",
    "            s=''"
   ]
  }
 ],
 "metadata": {
  "kernelspec": {
   "display_name": "Python 3",
   "language": "python",
   "name": "python3"
  },
  "language_info": {
   "codemirror_mode": {
    "name": "ipython",
    "version": 3
   },
   "file_extension": ".py",
   "mimetype": "text/x-python",
   "name": "python",
   "nbconvert_exporter": "python",
   "pygments_lexer": "ipython3",
   "version": "3.9.4"
  }
 },
 "nbformat": 4,
 "nbformat_minor": 5
}
