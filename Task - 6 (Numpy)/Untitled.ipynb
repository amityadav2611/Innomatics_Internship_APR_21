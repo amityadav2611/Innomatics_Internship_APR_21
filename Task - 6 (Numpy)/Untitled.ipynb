{
 "cells": [
  {
   "cell_type": "code",
   "execution_count": null,
   "id": "d831a232",
   "metadata": {},
   "outputs": [],
   "source": [
    "#Question-1 (Arrays)\n",
    "\n",
    "import numpy\n",
    "\n",
    "def arrays(arr):\n",
    "    # complete this function\n",
    "    # use numpy.array\n",
    "    a=numpy.array(arr, float)\n",
    "    return a[::-1]\n",
    "\n",
    "arr = input().strip().split(' ')\n",
    "result = arrays(arr)\n",
    "print(resul"
   ]
  },
  {
   "cell_type": "code",
   "execution_count": null,
   "id": "e74f940d",
   "metadata": {},
   "outputs": [],
   "source": [
    "#Question-2 (Shape and Reshape)\n",
    "\n",
    "import numpy as np\n",
    "print(np.array(input().split(),dtype=int).reshape(3,3))"
   ]
  },
  {
   "cell_type": "code",
   "execution_count": null,
   "id": "55f94447",
   "metadata": {},
   "outputs": [],
   "source": [
    "#Question-3 (Transpose and Flatten)\n",
    "\n",
    "import numpy as np\n",
    "nm=input().split()\n",
    "n, m= int(nm[0]), int(nm[1])\n",
    "l=[input().split() for i in range(n)]\n",
    "arr=np.array(l, dtype=int)\n",
    "print(np.transpose(arr))\n",
    "print(arr.flatten())\n"
   ]
  },
  {
   "cell_type": "code",
   "execution_count": null,
   "id": "6dfd220a",
   "metadata": {},
   "outputs": [],
   "source": [
    "#Question-4 (Concatenate)\n",
    "\n",
    "import numpy\n",
    "n,m,p=[int(i) for i in input().split()]\n",
    "arr1=numpy.array([input().split() for i in range(n)], int)\n",
    "arr2=numpy.array([input().split() for j in range(m)], int)\n",
    "print(numpy.concatenate((arr1, arr2), axis=0))"
   ]
  },
  {
   "cell_type": "code",
   "execution_count": null,
   "id": "4d0b9210",
   "metadata": {},
   "outputs": [],
   "source": [
    "#Question-5 (Zeros and Ones)\n",
    "\n",
    "import numpy\n",
    "t = tuple(map(int, input().split()))\n",
    "print(numpy.zeros(t, dtype=int))\n",
    "print(numpy.ones(t, dtype=int))\n"
   ]
  },
  {
   "cell_type": "code",
   "execution_count": null,
   "id": "7f53e1de",
   "metadata": {},
   "outputs": [],
   "source": [
    "#Question-6 (Eye And Identify)\n",
    "\n",
    "import numpy as np\n",
    "n,m = map(int, input().split())\n",
    "output = str(np.eye(n, m))\n",
    "print(output.replace(\"0\", \" 0\").replace(\"1\", \" 1\"))"
   ]
  },
  {
   "cell_type": "code",
   "execution_count": null,
   "id": "68f37d00",
   "metadata": {},
   "outputs": [],
   "source": [
    "#QUestion-7 (Array Mathematics)\n",
    "\n",
    "import numpy as np\n",
    "n, m = map(int, input().split())\n",
    "A = np.array([input().split() for i in range(n)], dtype=int)\n",
    "B = np.array([input().split() for i in range(n)], dtype=int)\n",
    "print(A + B)\n",
    "print(A - B)\n",
    "print(A * B)\n",
    "print(A // B)\n",
    "print(A % B)\n",
    "print(A ** B)"
   ]
  },
  {
   "cell_type": "code",
   "execution_count": null,
   "id": "b7a92685",
   "metadata": {},
   "outputs": [],
   "source": [
    "#Question-8 (Floor, Ceil and Rint)\n",
    "\n",
    "import numpy as np\n",
    "np.set_printoptions(sign=\" \")\n",
    "arr = np.array(input().split(), dtype=float)\n",
    "f=np.floor(arr)\n",
    "c=np.ceil(arr)\n",
    "r=np.rint(arr)\n",
    "print(f)\n",
    "print(c)\n",
    "print(r)"
   ]
  },
  {
   "cell_type": "code",
   "execution_count": null,
   "id": "eb78af55",
   "metadata": {},
   "outputs": [],
   "source": [
    "#Question-9 (Sum and Prod)\n",
    "\n",
    "import numpy as np\n",
    "n, m = map(int, input().split())\n",
    "arr = np.array([input().split() for i in range(n)], dtype=int)\n",
    "sumArray = np.sum(arr, axis=0)\n",
    "product = np.product(sumArray)\n",
    "print(product)"
   ]
  },
  {
   "cell_type": "code",
   "execution_count": null,
   "id": "fc2e6ee4",
   "metadata": {},
   "outputs": [],
   "source": [
    "#Question-10 (Min and Max)\n",
    "\n",
    "import numpy as np\n",
    "n,m = list(map(int,input().split()))\n",
    "arr = np.array([input().split() for i in range(n)], dtype=int)\n",
    "minAxis = np.min(arr, axis=1)\n",
    "print(max(minAxis))"
   ]
  },
  {
   "cell_type": "code",
   "execution_count": null,
   "id": "7e2d1c2e",
   "metadata": {},
   "outputs": [],
   "source": [
    "#Question-11 (Mean, Var, and Std)\n",
    "\n",
    "import numpy as np\n",
    "n, m = list(map(int, input().split()))\n",
    "arr = np.array([input().split() for i in range(n)], dtype=int)\n",
    "print(np.mean(arr, axis=1))\n",
    "print(np.var(arr, axis=0))\n",
    "output = np.std(arr)\n",
    "print(output.round(11))\n"
   ]
  },
  {
   "cell_type": "code",
   "execution_count": null,
   "id": "af68839b",
   "metadata": {},
   "outputs": [],
   "source": [
    "#Question-12 (Dot and Cross)\n",
    "\n",
    "import numpy as np\n",
    "n = int(input())\n",
    "a = np.array([input().split() for i in range(n)], dtype=int)\n",
    "b = np.array([input().split() for i in range(n)], dtype=int)\n",
    "print(a.dot(b))"
   ]
  },
  {
   "cell_type": "code",
   "execution_count": null,
   "id": "647f78b0",
   "metadata": {},
   "outputs": [],
   "source": [
    "#Question-13 (Inner and Outer)\n",
    "\n",
    "import numpy as np\n",
    "A = np.array(input().split(), int)\n",
    "B = np.array(input().split(), int)\n",
    "print(np.inner(A,B))\n",
    "print(np.outer(A,B))"
   ]
  },
  {
   "cell_type": "code",
   "execution_count": null,
   "id": "cd855b36",
   "metadata": {},
   "outputs": [],
   "source": [
    "#Question-14 (Polynomials)\n",
    "\n",
    "import numpy as np\n",
    "arr = np.array(input().split(), dtype=float)\n",
    "print(np.polyval(arr, int(input())))"
   ]
  },
  {
   "cell_type": "code",
   "execution_count": null,
   "id": "065ff551",
   "metadata": {},
   "outputs": [],
   "source": [
    "#Question-15 (Linear Algebra)\n",
    "\n",
    "import numpy as np\n",
    "n = int(input())\n",
    "arr = np.array([input().split() for i in range(n)], dtype=float)\n",
    "deterVal = np.linalg.det(arr)\n",
    "print(deterVal.round(2))"
   ]
  }
 ],
 "metadata": {
  "kernelspec": {
   "display_name": "Python 3",
   "language": "python",
   "name": "python3"
  },
  "language_info": {
   "codemirror_mode": {
    "name": "ipython",
    "version": 3
   },
   "file_extension": ".py",
   "mimetype": "text/x-python",
   "name": "python",
   "nbconvert_exporter": "python",
   "pygments_lexer": "ipython3",
   "version": "3.9.4"
  }
 },
 "nbformat": 4,
 "nbformat_minor": 5
}
