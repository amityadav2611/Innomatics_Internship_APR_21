{
 "cells": [
  {
   "cell_type": "code",
   "execution_count": null,
   "id": "25fe0e0d",
   "metadata": {},
   "outputs": [],
   "source": [
    "#Question-1 (Find the Runner-Up Score!)\n",
    "\n",
    "a=max(arr)\n",
    "    c=arr.count(a)\n",
    "    for i in range(c):\n",
    "        arr.remove(a)\n",
    "    print(max(arr))"
   ]
  },
  {
   "cell_type": "code",
   "execution_count": null,
   "id": "df5279b6",
   "metadata": {},
   "outputs": [],
   "source": [
    "#Question-2  (List Comprehensions)\n",
    "\n",
    "l=list()\n",
    "    for i in range(x+1):\n",
    "        for j in range(y+1):\n",
    "            for k in range(z+1):\n",
    "                if(i+j+k!=n):\n",
    "                    l.append([i,j,k])\n",
    "    print(l)\n",
    "    "
   ]
  },
  {
   "cell_type": "code",
   "execution_count": null,
   "id": "477652f6",
   "metadata": {},
   "outputs": [],
   "source": [
    "#Question-3 (Nested Lists)\n",
    "\n",
    "if __name__ == '__main__':\n",
    "    dic={}\n",
    "    s=list()\n",
    "    for _ in range(int(raw_input())):\n",
    "        name = raw_input()\n",
    "        score = float(raw_input())\n",
    "        if score in dic:\n",
    "            dic[score].append(name)\n",
    "        else:\n",
    "            dic[score]=[name]\n",
    "        if score not in s:\n",
    "            s.append(score)\n",
    "    m=min(s)\n",
    "    s.remove(m)\n",
    "    m1=min(s)\n",
    "    dic[m1].sort()\n",
    "    for i in dic[m1]:\n",
    "        print(i)"
   ]
  },
  {
   "cell_type": "code",
   "execution_count": null,
   "id": "c54cdeab",
   "metadata": {},
   "outputs": [],
   "source": [
    "#Question-4 (Finding the percentage)\n",
    "\n",
    " s=0\n",
    "    for i in student_marks[query_name]:\n",
    "        s=s+i\n",
    "    print(\"{0:.2f}\".format(s/3))"
   ]
  },
  {
   "cell_type": "code",
   "execution_count": null,
   "id": "8ae2b317",
   "metadata": {},
   "outputs": [],
   "source": [
    "#Question-5 (Lists)\n",
    "\n",
    "  arr=[]\n",
    "    for i in range(N):\n",
    "        s = input().split()\n",
    "        for i in range(1,len(s)):\n",
    "            s[i]=int(s[i])\n",
    "            \n",
    "        if s[0]==\"append\":\n",
    "            arr.append(s[1])\n",
    "            \n",
    "        elif s[0]==\"insert\":\n",
    "            arr.insert(s[1],s[2])\n",
    "        elif s[0]==\"remove\":\n",
    "            arr.remove(s[1])\n",
    "        elif s[0]==\"pop\":\n",
    "            arr.pop()\n",
    "            \n",
    "        elif s[0]==\"sort\":\n",
    "            arr.sort()\n",
    "        elif s[0]==\"reverse\":\n",
    "            arr.reverse()\n",
    "        elif s[0]==\"print\":\n",
    "            print(arr)"
   ]
  },
  {
   "cell_type": "code",
   "execution_count": null,
   "id": "a4a2c4d8",
   "metadata": {},
   "outputs": [],
   "source": [
    "#Question-6 (Tuples)\n",
    "\n",
    "    integer_list = tuple(map(int, raw_input().split()))\n",
    "    print(hash(integer_list))"
   ]
  },
  {
   "cell_type": "code",
   "execution_count": null,
   "id": "2b7e64e1",
   "metadata": {},
   "outputs": [],
   "source": [
    "#Question-7 (Introduction to Sets)\n",
    "\n",
    "def average(array):\n",
    "    # your code goes here\n",
    "    array=set(array)\n",
    "    return sum(array)/len(array)"
   ]
  },
  {
   "cell_type": "code",
   "execution_count": null,
   "id": "28fbb393",
   "metadata": {},
   "outputs": [],
   "source": [
    "#Question-8 (No Idea!)\n",
    "\n",
    "n,m=map(int,input().split())\n",
    "arr=list(map(int,input().split()))\n",
    "A=set(map(int,input().split()))\n",
    "B=set(map(int,input().split()))\n",
    "print(sum((i in A)-(i in B)for i in arr))"
   ]
  },
  {
   "cell_type": "code",
   "execution_count": null,
   "id": "2dce21a3",
   "metadata": {},
   "outputs": [],
   "source": [
    "#Question-9 (Symmetric Difference)\n",
    "\n",
    "a,b=(int(input()),input().split())\n",
    "c,d=(int(input()),input().split())\n",
    "x=set(b)\n",
    "y=set(d)\n",
    "p=y.difference(x)\n",
    "q=x.difference(y)\n",
    "r=p.union(q)\n",
    "print('\\n'.join(sorted(r,key=int)))\n"
   ]
  },
  {
   "cell_type": "code",
   "execution_count": null,
   "id": "28cec001",
   "metadata": {},
   "outputs": [],
   "source": [
    "#Question-10 (Set .add())\n",
    "\n",
    "n=int(input())\n",
    "set1=set()\n",
    "for i in range(n):\n",
    "    set1.add(input())\n",
    "print(len(set1))"
   ]
  },
  {
   "cell_type": "code",
   "execution_count": null,
   "id": "5105096c",
   "metadata": {},
   "outputs": [],
   "source": [
    "#Question-11 (Set .discard(), .remove() & .pop())\n",
    "\n",
    "input()\n",
    "s = set(map(int, input().split()))\n",
    "n = int(input())\n",
    "for i in  range(n):\n",
    "    commands=input().split()\n",
    "    if len(commands) > 1:\n",
    "        e = int(commands[1])\n",
    "    if commands[0] == \"pop\":\n",
    "        s.pop()\n",
    "    if commands[0] == \"remove\":\n",
    "        s.remove(e)\n",
    "    if commands[0] == \"discard\":\n",
    "        s.discard(e)\n",
    "print(sum(s))"
   ]
  },
  {
   "cell_type": "code",
   "execution_count": null,
   "id": "f83bc97f",
   "metadata": {},
   "outputs": [],
   "source": [
    "#Question-12 (Set .union() Operation)\n",
    "\n",
    "l=[]\n",
    "e=int(input())\n",
    "eng=list(map(int,input().rstrip().split()))\n",
    "f=int(input())\n",
    "french=list(map(int,input().rstrip().split()))\n",
    "for i in eng:\n",
    "    l.append(i)\n",
    "for i in french:\n",
    "    l.append(i)\n",
    "s = set(l)\n",
    "print(len(s))"
   ]
  },
  {
   "cell_type": "code",
   "execution_count": null,
   "id": "43d610e0",
   "metadata": {},
   "outputs": [],
   "source": [
    "#Question-13 (Set .intersection() Operation)\n",
    "\n",
    "l=[]\n",
    "e=int(input())\n",
    "eng=set(map(int,input().split()))\n",
    "f=int(input())\n",
    "french=set(map(int,input().split()))\n",
    "\n",
    "inter = eng.intersection(french)\n",
    "print(len(inter))"
   ]
  },
  {
   "cell_type": "code",
   "execution_count": null,
   "id": "cb7de2b3",
   "metadata": {},
   "outputs": [],
   "source": [
    "#Question-14 (Set .difference() Operation)\n",
    "\n",
    "c = 0\n",
    "e=int(input())\n",
    "eng=set(map(int,input().split()))\n",
    "f=int(input())\n",
    "french=set(map(int,input().split()))\n",
    "l = eng - french\n",
    "print(len(l))"
   ]
  },
  {
   "cell_type": "code",
   "execution_count": null,
   "id": "70d85fe5",
   "metadata": {},
   "outputs": [],
   "source": [
    "#Question-15 (Set .symmetric_difference() Operation)\n",
    "\n",
    "e = int(input())\n",
    "eng = set(map(int,input().split())) \n",
    "f = int(input())\n",
    "fre = set(map(int,input().split()))\n",
    "print(len(eng ^ fre))"
   ]
  },
  {
   "cell_type": "code",
   "execution_count": null,
   "id": "00a16dc7",
   "metadata": {},
   "outputs": [],
   "source": [
    "#Question-16 (Set Mutations)\n",
    "\n",
    "def Operations():\n",
    "    global output \n",
    "    ol = input().split()\n",
    "    operation = ol[0]\n",
    "    updaterSet = set(map(int,input().split()))\n",
    "    if operation == \"intersection_update\":\n",
    "        a.intersection_update(updaterSet)\n",
    "    elif operation == \"update\":\n",
    "        a.update(updaterSet)\n",
    "    elif operation == \"symmetric_difference_update\":\n",
    "        a.symmetric_difference_update(updaterSet)\n",
    "    elif operation == \"difference_update\":\n",
    "        a.difference_update(updaterSet)\n",
    "    output = sum(a)\n",
    "    \n",
    "input()\n",
    "a = set(map(int,input().split()))\n",
    "n=int(input())\n",
    "for i in range(n):\n",
    "    Operations()\n",
    "print(output)        "
   ]
  },
  {
   "cell_type": "code",
   "execution_count": null,
   "id": "08c7eb1f",
   "metadata": {},
   "outputs": [],
   "source": [
    "#Question-17 (The Captain's Room)\n",
    "\n",
    "k = int(input())\n",
    "rooms = list(map(int,input().split()))\n",
    "a = set()\n",
    "b = set()\n",
    "for room in rooms:\n",
    "    if room not in a:\n",
    "        a.add(room)\n",
    "        b.add(room)\n",
    "    else:\n",
    "        b.discard(room)\n",
    "b = list(b)\n",
    "print(b[0])"
   ]
  },
  {
   "cell_type": "code",
   "execution_count": null,
   "id": "c5bdf8db",
   "metadata": {},
   "outputs": [],
   "source": [
    "#Question-18 (Check Subset)\n",
    "\n",
    "def checker():\n",
    "    x = int(input())\n",
    "    s1 = set(map(int,input().split()))\n",
    "    y = int(input())\n",
    "    s2 = set(map(int,input().split()))\n",
    "    l = []\n",
    "    for i in s1:\n",
    "        if i in s2:\n",
    "            l.append(i)\n",
    "    l = set(l)\n",
    "    if l == s1:\n",
    "        print(True)\n",
    "    else:\n",
    "        print(False)\n",
    "        \n",
    "t = int(input())\n",
    "for i in range(t):\n",
    "    checker()"
   ]
  },
  {
   "cell_type": "code",
   "execution_count": null,
   "id": "816e03cb",
   "metadata": {},
   "outputs": [],
   "source": [
    "#Question-19 (Check Strict Superset)\n",
    "\n",
    "def checker():\n",
    "    sub = set(map(int, input().split()))\n",
    "    if sub.issubset(a):\n",
    "        if len(a) == len(sub):\n",
    "            l.append(0)\n",
    "        else:\n",
    "            l.append(1)\n",
    "    else:\n",
    "        l.append(0)\n",
    "        \n",
    "a = set(map(int, input().split()))\n",
    "n = int(input())\n",
    "l = []\n",
    "for i in range(n):\n",
    "    checker()\n",
    "if all(l) == 1:\n",
    "    print(True)\n",
    "else:\n",
    "    print(False)"
   ]
  }
 ],
 "metadata": {
  "kernelspec": {
   "display_name": "Python 3",
   "language": "python",
   "name": "python3"
  },
  "language_info": {
   "codemirror_mode": {
    "name": "ipython",
    "version": 3
   },
   "file_extension": ".py",
   "mimetype": "text/x-python",
   "name": "python",
   "nbconvert_exporter": "python",
   "pygments_lexer": "ipython3",
   "version": "3.9.4"
  }
 },
 "nbformat": 4,
 "nbformat_minor": 5
}
